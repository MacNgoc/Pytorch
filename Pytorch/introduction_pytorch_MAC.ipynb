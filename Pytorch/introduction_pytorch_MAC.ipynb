{
 "cells": [
  {
   "cell_type": "code",
   "execution_count": 1,
   "metadata": {},
   "outputs": [],
   "source": [
    "from IPython.display import HTML\n",
    "import torch"
   ]
  },
  {
   "cell_type": "code",
   "execution_count": 2,
   "metadata": {},
   "outputs": [],
   "source": [
    "import pandas as pd"
   ]
  },
  {
   "cell_type": "code",
   "execution_count": 3,
   "metadata": {},
   "outputs": [],
   "source": [
    "import torch.utils.data as data_utils"
   ]
  },
  {
   "cell_type": "code",
   "execution_count": 4,
   "metadata": {},
   "outputs": [],
   "source": [
    "import matplotlib.pyplot as plt\n"
   ]
  },
  {
   "cell_type": "markdown",
   "metadata": {},
   "source": [
    "# Création de tenseur \n",
    "\n",
    "Pytorch (et tensorflow) utilisent des \"tenseurs\" pour stocker des données. C'est l'équivalent des ndarray de numpy et fonctionnent de manière similaire avec quelques fonctionalités en plus. Une des choses très intéressantes avec Pytorch est sa forte compatibilité avec numpy. \n",
    "\n",
    "Avec la méthode torch.tensor créer un vecteur contenant les valeurs [-1, 2, 3, 5] et le stocker dans la variable t"
   ]
  },
  {
   "cell_type": "markdown",
   "metadata": {},
   "source": [
    "Afficher son type"
   ]
  },
  {
   "cell_type": "code",
   "execution_count": 4,
   "metadata": {},
   "outputs": [
    {
     "data": {
      "text/plain": [
       "'torch.LongTensor'"
      ]
     },
     "execution_count": 4,
     "metadata": {},
     "output_type": "execute_result"
    }
   ],
   "source": [
    "t = torch.tensor([-1, 2, 3, 5])\n",
    "t.type()"
   ]
  },
  {
   "cell_type": "markdown",
   "metadata": {},
   "source": [
    "Calculer 2 * t, qu'est ce que ça fait ? "
   ]
  },
  {
   "cell_type": "code",
   "execution_count": 5,
   "metadata": {},
   "outputs": [
    {
     "data": {
      "text/plain": [
       "tensor([-2,  4,  6, 10])"
      ]
     },
     "execution_count": 5,
     "metadata": {},
     "output_type": "execute_result"
    }
   ],
   "source": [
    "2*t"
   ]
  },
  {
   "cell_type": "markdown",
   "metadata": {},
   "source": [
    "Créer un tensor avec les valeurs [-1, 2.2, 3.3] et le stocker dans la variable t2. Afficher son type"
   ]
  },
  {
   "cell_type": "code",
   "execution_count": 6,
   "metadata": {},
   "outputs": [
    {
     "data": {
      "text/plain": [
       "'torch.FloatTensor'"
      ]
     },
     "execution_count": 6,
     "metadata": {},
     "output_type": "execute_result"
    }
   ],
   "source": [
    "t2 = torch.tensor([-1, 2.2, 3.3])\n",
    "t2.type()"
   ]
  },
  {
   "cell_type": "markdown",
   "metadata": {},
   "source": [
    "Chercher la méthode permettant de convertir un tenseur float en tenseur de type Long et convertir t2 en type Long"
   ]
  },
  {
   "cell_type": "code",
   "execution_count": 7,
   "metadata": {},
   "outputs": [
    {
     "data": {
      "text/plain": [
       "'torch.FloatTensor'"
      ]
     },
     "execution_count": 7,
     "metadata": {},
     "output_type": "execute_result"
    }
   ],
   "source": [
    "t3 = t.float()\n",
    "t3.type()"
   ]
  },
  {
   "cell_type": "code",
   "execution_count": 8,
   "metadata": {},
   "outputs": [
    {
     "data": {
      "text/plain": [
       "'torch.LongTensor'"
      ]
     },
     "execution_count": 8,
     "metadata": {},
     "output_type": "execute_result"
    }
   ],
   "source": [
    "t4 = t2.long()\n",
    "t4.type()"
   ]
  },
  {
   "cell_type": "markdown",
   "metadata": {},
   "source": [
    "Créer une matrice aléatoire de taille 3, 3 avec la fonction numpy.random.randn et créer un tenseur pytorch à partir du tableau numpy et le stocker dans la variabne **A**\n",
    "\n",
    "\n"
   ]
  },
  {
   "cell_type": "code",
   "execution_count": 9,
   "metadata": {},
   "outputs": [
    {
     "data": {
      "text/plain": [
       "tensor([[0.7757, 0.5414, 0.4888],\n",
       "        [0.9445, 0.9740, 0.5185],\n",
       "        [0.9337, 0.8630, 0.2235]])"
      ]
     },
     "execution_count": 9,
     "metadata": {},
     "output_type": "execute_result"
    }
   ],
   "source": [
    "A = torch.rand(3,3)\n",
    "A"
   ]
  },
  {
   "cell_type": "markdown",
   "metadata": {},
   "source": [
    "# Manipulation et fonctions sur les tenseurs\n",
    "\n",
    "Comme numpy, pytorch possède toutes les fonctions mathématiques standard. \n",
    "\n",
    "a l'aide de la méthode torch.cos, calculer le cosinus du tenseur A précédent"
   ]
  },
  {
   "cell_type": "code",
   "execution_count": 10,
   "metadata": {},
   "outputs": [
    {
     "data": {
      "text/plain": [
       "tensor([[0.7140, 0.8570, 0.8829],\n",
       "        [0.5862, 0.5620, 0.8685],\n",
       "        [0.5949, 0.6502, 0.9751]])"
      ]
     },
     "execution_count": 10,
     "metadata": {},
     "output_type": "execute_result"
    }
   ],
   "source": [
    "torch.cos(A)"
   ]
  },
  {
   "cell_type": "markdown",
   "metadata": {},
   "source": [
    "Calculer exp de la même manière"
   ]
  },
  {
   "cell_type": "code",
   "execution_count": 11,
   "metadata": {},
   "outputs": [
    {
     "data": {
      "text/plain": [
       "tensor([[2.1720, 1.7184, 1.6304],\n",
       "        [2.5714, 2.6486, 1.6796],\n",
       "        [2.5439, 2.3703, 1.2504]])"
      ]
     },
     "execution_count": 11,
     "metadata": {},
     "output_type": "execute_result"
    }
   ],
   "source": [
    "torch.exp(A)"
   ]
  },
  {
   "cell_type": "markdown",
   "metadata": {},
   "source": [
    "Calculer la somme des valeurs du tensor A et la moyenne"
   ]
  },
  {
   "cell_type": "code",
   "execution_count": 12,
   "metadata": {},
   "outputs": [
    {
     "data": {
      "text/plain": [
       "tensor(6.2631)"
      ]
     },
     "execution_count": 12,
     "metadata": {},
     "output_type": "execute_result"
    }
   ],
   "source": [
    "torch.sum(A)"
   ]
  },
  {
   "cell_type": "code",
   "execution_count": 13,
   "metadata": {},
   "outputs": [
    {
     "data": {
      "text/plain": [
       "tensor(0.6959)"
      ]
     },
     "execution_count": 13,
     "metadata": {},
     "output_type": "execute_result"
    }
   ],
   "source": [
    "torch.mean(A)"
   ]
  },
  {
   "cell_type": "markdown",
   "metadata": {},
   "source": [
    "# Différentiation automatique\n",
    "\n",
    "Pytorch permet de faire des choses très pratiques : calculer les dérivée partielles d'expression utilisant des tenseurs. \n",
    "\n",
    "Avec la fonction torch.tensor, créer un tenseur à une dimension contenant la valeur -1;0 et la stocker dans la variable **t**\n",
    "\n",
    "Il faudra spécifier la valeur requires_grad = True en créant le tenseur\n",
    "\n",
    "Calculer $ exp(-t^2) $ et stocker le resultat dans la variable **z**\n",
    "\n",
    "appeler la méthode .backward sur le tenseur z\n",
    "\n",
    "vous pourrez ainsi récupérer le gradient de z par rapport à t dans la variable t. Le stocker dans la variable grad_t et l'afficher\n",
    "\n"
   ]
  },
  {
   "cell_type": "code",
   "execution_count": 10,
   "metadata": {},
   "outputs": [
    {
     "data": {
      "text/plain": [
       "tensor([0.7358])"
      ]
     },
     "execution_count": 10,
     "metadata": {},
     "output_type": "execute_result"
    }
   ],
   "source": [
    "t = torch.tensor([-1.], requires_grad = True)\n",
    "h = -t**2\n",
    "z = torch.exp(h)\n",
    "z.backward()\n",
    "t.grad"
   ]
  },
  {
   "cell_type": "markdown",
   "metadata": {},
   "source": [
    "-   Gradient of function $y = f(x) \\,  \\mbox{or}  \\, y = exp(h), h = -t^2, t = (t_1, t_2, t_3) $ respect to t is a Jacobien matrix J, so, for a vector v = (v_1, v_2, v_3), we can compute $ v^T.J $\n",
    "- Ref : https://pytorch.org/tutorials/beginner/blitz/autograd_tutorial.html#sphx-glr-beginner-blitz-autograd-tutorial-py"
   ]
  },
  {
   "cell_type": "code",
   "execution_count": 16,
   "metadata": {},
   "outputs": [
    {
     "name": "stdout",
     "output_type": "stream",
     "text": [
      "tensor([0.0000, -0.0000, 0.7358])\n"
     ]
    }
   ],
   "source": [
    "t2 = torch.tensor([-1., 0., 1.], requires_grad = True)\n",
    "h = -t2**2\n",
    "z = torch.exp(h)\n",
    "#z.backward()\n",
    "# t2.grad \n",
    "# --> error\n",
    "v = torch.tensor([0., 1., -1.])\n",
    "z.backward(v)\n",
    "print(t2.grad)"
   ]
  },
  {
   "cell_type": "code",
   "execution_count": null,
   "metadata": {},
   "outputs": [],
   "source": []
  },
  {
   "cell_type": "markdown",
   "metadata": {},
   "source": [
    "## Regression linéaire avec Pytorch"
   ]
  },
  {
   "cell_type": "markdown",
   "metadata": {},
   "source": [
    "Dans cet exercice on va faire une mini regression linéaire\n",
    "\n",
    "Créer un tensor **theta** contenant $\\theta_0 = -1$ et $\\theta_1 = 0.5 $ en activant les gradient. \n",
    "\n",
    "Créer un tensor X avec les valeurs 1, 2, 3, 4 sans gradient\n",
    "\n",
    "Créer un tensor y avec les valeurs 2, 4, 6, 8 sans gradient\n",
    "\n"
   ]
  },
  {
   "cell_type": "code",
   "execution_count": 19,
   "metadata": {},
   "outputs": [],
   "source": [
    "theta = torch.tensor([-1., 0.5], requires_grad = True)\n",
    "X = torch.tensor([1.,2.,3.,4.])\n",
    "y = torch.tensor([2., 4., 6., 8.])"
   ]
  },
  {
   "cell_type": "markdown",
   "metadata": {},
   "source": [
    "Calculer $ \\hat{y}  = \\theta_0 + \\theta_1 * x$  et le stocker dans la variable **y_pred**"
   ]
  },
  {
   "cell_type": "code",
   "execution_count": 20,
   "metadata": {},
   "outputs": [],
   "source": [
    "y_pred = theta[0] + theta[1]*X"
   ]
  },
  {
   "cell_type": "code",
   "execution_count": 21,
   "metadata": {},
   "outputs": [
    {
     "data": {
      "text/plain": [
       "tensor([-0.5000,  0.0000,  0.5000,  1.0000], grad_fn=<AddBackward0>)"
      ]
     },
     "execution_count": 21,
     "metadata": {},
     "output_type": "execute_result"
    }
   ],
   "source": [
    "y_pred"
   ]
  },
  {
   "cell_type": "markdown",
   "metadata": {},
   "source": [
    "Calculer la MSE entre les prédictions et les labels et le stocker dans la variable **mse**"
   ]
  },
  {
   "cell_type": "code",
   "execution_count": 22,
   "metadata": {},
   "outputs": [
    {
     "data": {
      "text/plain": [
       "tensor(25.3750, grad_fn=<MeanBackward0>)"
      ]
     },
     "execution_count": 22,
     "metadata": {},
     "output_type": "execute_result"
    }
   ],
   "source": [
    "mse = torch.mean((y_pred - y)**2)\n",
    "mse"
   ]
  },
  {
   "cell_type": "markdown",
   "metadata": {},
   "source": [
    "utiliser la méthode  backward sur **mse** et afficher le gradient par rapport à $\\theta$"
   ]
  },
  {
   "cell_type": "code",
   "execution_count": 23,
   "metadata": {},
   "outputs": [
    {
     "data": {
      "text/plain": [
       "tensor([ -9.5000, -27.5000])"
      ]
     },
     "execution_count": 23,
     "metadata": {},
     "output_type": "execute_result"
    }
   ],
   "source": [
    "mse.backward()\n",
    "theta.grad"
   ]
  },
  {
   "cell_type": "markdown",
   "metadata": {},
   "source": [
    "# Le premier vrai modèle\n",
    "\n",
    "Jusqu'à présent on a manipulé les tenseurs à la main. Mais pour créer des modèles en Pytorch il faut créer des classes qui hérite de nn.Module. \n",
    "\n",
    "Compléter la classe LinearRegression suivante qui permet d'implémenter une régression linéaire qui utilise une seule variable X pour prédire Y. \n"
   ]
  },
  {
   "cell_type": "code",
   "execution_count": 88,
   "metadata": {},
   "outputs": [],
   "source": [
    "import torch.nn as nn\n",
    "class LinearRegression(nn.Module):\n",
    "    \n",
    "    def __init__(self):\n",
    "        super(LinearRegression, self).__init__()\n",
    "        self.lin = nn.Linear(1,1)# input_dim and output_dim\n",
    "            \n",
    "    def forward(self, x):\n",
    "        return self.lin(x)\n"
   ]
  },
  {
   "cell_type": "code",
   "execution_count": null,
   "metadata": {},
   "outputs": [],
   "source": []
  },
  {
   "cell_type": "code",
   "execution_count": null,
   "metadata": {},
   "outputs": [],
   "source": []
  },
  {
   "cell_type": "markdown",
   "metadata": {},
   "source": [
    "# Entraînement d'un modèle. \n",
    "\n",
    "Contrairement à Keras, Pytorch ne fournit pas de methode .fit sur les modèles. Il faut faire sa procédure d'entraînement soi même, ce qui a l'avantage de proposer plus de souplesses. Pour pouvoir effectuer l'entraînement il faut plusieurs ingrédients: \n",
    "\n",
    "- un optimiser \n",
    "- une fonction de loss\n",
    "- les données\n",
    "- le modèle"
   ]
  },
  {
   "cell_type": "markdown",
   "metadata": {},
   "source": [
    "Créer une instance de votre modèle. "
   ]
  },
  {
   "cell_type": "code",
   "execution_count": 89,
   "metadata": {},
   "outputs": [],
   "source": [
    "model = LinearRegression()"
   ]
  },
  {
   "cell_type": "markdown",
   "metadata": {},
   "source": [
    "Le code suivant permet de charger un csv comme dataset. L'adapter pour qu'il marche avec votre dataset."
   ]
  },
  {
   "cell_type": "code",
   "execution_count": 90,
   "metadata": {},
   "outputs": [],
   "source": [
    "df = pd.read_csv('data/data_reg.csv')\n",
    "x = torch.tensor(df[\"x\"].values).float().view(7,1)# need to reshape tensor\n",
    "y = torch.tensor(df[\" y\"].values).float().view(7,1)# need to reshape tensor\n",
    "train = data_utils.TensorDataset(x,y)\n",
    "train_loader = data_utils.DataLoader(train, batch_size=7, shuffle=False)"
   ]
  },
  {
   "cell_type": "markdown",
   "metadata": {},
   "source": [
    "Créer une instance de MSELoss "
   ]
  },
  {
   "cell_type": "code",
   "execution_count": 41,
   "metadata": {},
   "outputs": [],
   "source": [
    "#loss_fn = nn.MSELoss(reduction='mean')\n",
    "#loss = loss_fn(train, y)"
   ]
  },
  {
   "cell_type": "markdown",
   "metadata": {},
   "source": [
    "Créer une instance de l'optimiser SGD "
   ]
  },
  {
   "cell_type": "code",
   "execution_count": 91,
   "metadata": {},
   "outputs": [],
   "source": [
    "model = LinearRegression()\n",
    "optimizer = torch.optim.SGD(model.parameters(), lr=0.005)"
   ]
  },
  {
   "cell_type": "code",
   "execution_count": 92,
   "metadata": {},
   "outputs": [
    {
     "data": {
      "text/plain": [
       "SGD (\n",
       "Parameter Group 0\n",
       "    dampening: 0\n",
       "    lr: 0.005\n",
       "    momentum: 0\n",
       "    nesterov: False\n",
       "    weight_decay: 0\n",
       ")"
      ]
     },
     "execution_count": 92,
     "metadata": {},
     "output_type": "execute_result"
    }
   ],
   "source": [
    "optimizer"
   ]
  },
  {
   "cell_type": "markdown",
   "metadata": {},
   "source": [
    "Compléter le code suivant qui permet de faire l'entraînement du modèle"
   ]
  },
  {
   "cell_type": "code",
   "execution_count": 93,
   "metadata": {},
   "outputs": [
    {
     "name": "stdout",
     "output_type": "stream",
     "text": [
      "iteration 0\n",
      "prediction tensor([[ 0.0094],\n",
      "        [ 0.2390],\n",
      "        [ 0.4687],\n",
      "        [-0.2202],\n",
      "        [ 0.0094],\n",
      "        [-1.3684],\n",
      "        [-1.4143]], grad_fn=<AddmmBackward>)\n",
      "loss 2.735759973526001\n",
      "iteration 1\n",
      "prediction tensor([[ 0.0376],\n",
      "        [ 0.2745],\n",
      "        [ 0.5114],\n",
      "        [-0.1992],\n",
      "        [ 0.0376],\n",
      "        [-1.3836],\n",
      "        [-1.4310]], grad_fn=<AddmmBackward>)\n",
      "loss 2.656813859939575\n",
      "iteration 2\n",
      "prediction tensor([[ 0.0653],\n",
      "        [ 0.3092],\n",
      "        [ 0.5532],\n",
      "        [-0.1786],\n",
      "        [ 0.0653],\n",
      "        [-1.3983],\n",
      "        [-1.4471]], grad_fn=<AddmmBackward>)\n",
      "loss 2.581012010574341\n",
      "iteration 3\n",
      "prediction tensor([[ 0.0924],\n",
      "        [ 0.3432],\n",
      "        [ 0.5940],\n",
      "        [-0.1584],\n",
      "        [ 0.0924],\n",
      "        [-1.4123],\n",
      "        [-1.4625]], grad_fn=<AddmmBackward>)\n",
      "loss 2.5082154273986816\n",
      "iteration 4\n",
      "prediction tensor([[ 0.1190],\n",
      "        [ 0.3765],\n",
      "        [ 0.6339],\n",
      "        [-0.1385],\n",
      "        [ 0.1190],\n",
      "        [-1.4258],\n",
      "        [-1.4773]], grad_fn=<AddmmBackward>)\n",
      "loss 2.4382898807525635\n",
      "iteration 5\n",
      "prediction tensor([[ 0.1450],\n",
      "        [ 0.4090],\n",
      "        [ 0.6730],\n",
      "        [-0.1189],\n",
      "        [ 0.1450],\n",
      "        [-1.4388],\n",
      "        [-1.4916]], grad_fn=<AddmmBackward>)\n",
      "loss 2.371108293533325\n",
      "iteration 6\n",
      "prediction tensor([[ 0.1706],\n",
      "        [ 0.4409],\n",
      "        [ 0.7112],\n",
      "        [-0.0997],\n",
      "        [ 0.1706],\n",
      "        [-1.4512],\n",
      "        [-1.5053]], grad_fn=<AddmmBackward>)\n",
      "loss 2.306549549102783\n",
      "iteration 7\n",
      "prediction tensor([[ 0.1956],\n",
      "        [ 0.4721],\n",
      "        [ 0.7485],\n",
      "        [-0.0808],\n",
      "        [ 0.1956],\n",
      "        [-1.4631],\n",
      "        [-1.5184]], grad_fn=<AddmmBackward>)\n",
      "loss 2.2444987297058105\n",
      "iteration 8\n",
      "prediction tensor([[ 0.2201],\n",
      "        [ 0.5026],\n",
      "        [ 0.7850],\n",
      "        [-0.0623],\n",
      "        [ 0.2201],\n",
      "        [-1.4745],\n",
      "        [-1.5310]], grad_fn=<AddmmBackward>)\n",
      "loss 2.184845447540283\n",
      "iteration 9\n",
      "prediction tensor([[ 0.2442],\n",
      "        [ 0.5325],\n",
      "        [ 0.8207],\n",
      "        [-0.0441],\n",
      "        [ 0.2442],\n",
      "        [-1.4854],\n",
      "        [-1.5431]], grad_fn=<AddmmBackward>)\n",
      "loss 2.1274845600128174\n"
     ]
    }
   ],
   "source": [
    "n_epoch = 10\n",
    "losses = []\n",
    "for epoch in range(n_epoch):\n",
    "    print(\"iteration\", epoch)\n",
    "    for x, y in train_loader:\n",
    "        #print(\"x\", x)\n",
    "        #print(\"y\",y)\n",
    "        optimizer.zero_grad()\n",
    "        predictions = model(x)\n",
    "        print(\"prediction\", predictions)\n",
    "        loss = torch.mean((predictions - y)**2)\n",
    "        print(\"loss\", loss.item())\n",
    "        losses.append(loss.item())\n",
    "        loss.backward()\n",
    "        optimizer.step()\n",
    "        \n",
    "        optimizer.zero_grad()\n",
    "    "
   ]
  },
  {
   "cell_type": "markdown",
   "metadata": {},
   "source": [
    "Afficher la loss au cours de l'entraînement et vérifier qu'elle diminue bien. "
   ]
  },
  {
   "cell_type": "code",
   "execution_count": 94,
   "metadata": {},
   "outputs": [
    {
     "data": {
      "text/plain": [
       "[2.735759973526001,\n",
       " 2.656813859939575,\n",
       " 2.581012010574341,\n",
       " 2.5082154273986816,\n",
       " 2.4382898807525635,\n",
       " 2.371108293533325,\n",
       " 2.306549549102783,\n",
       " 2.2444987297058105,\n",
       " 2.184845447540283,\n",
       " 2.1274845600128174]"
      ]
     },
     "execution_count": 94,
     "metadata": {},
     "output_type": "execute_result"
    }
   ],
   "source": [
    "losses"
   ]
  },
  {
   "cell_type": "code",
   "execution_count": 95,
   "metadata": {},
   "outputs": [
    {
     "data": {
      "text/plain": [
       "[<matplotlib.lines.Line2D at 0x1ca85dadcd0>]"
      ]
     },
     "execution_count": 95,
     "metadata": {},
     "output_type": "execute_result"
    },
    {
     "data": {
      "image/png": "[encoded data removed]",
      "text/plain": [
       "<Figure size 432x288 with 1 Axes>"
      ]
     },
     "metadata": {
      "needs_background": "light"
     },
     "output_type": "display_data"
    }
   ],
   "source": [
    "import matplotlib.pyplot as plt\n",
    "plt.plot(losses)"
   ]
  },
  {
   "cell_type": "markdown",
   "metadata": {},
   "source": [
    "Afficher les paramètres de votre régression linéaire\n"
   ]
  },
  {
   "cell_type": "code",
   "execution_count": 96,
   "metadata": {},
   "outputs": [
    {
     "data": {
      "text/plain": [
       "<bound method Module.parameters of LinearRegression(\n",
       "  (lin): Linear(in_features=1, out_features=1, bias=True)\n",
       ")>"
      ]
     },
     "execution_count": 96,
     "metadata": {},
     "output_type": "execute_result"
    }
   ],
   "source": [
    "model.parameters"
   ]
  },
  {
   "cell_type": "code",
   "execution_count": 97,
   "metadata": {},
   "outputs": [
    {
     "name": "stdout",
     "output_type": "stream",
     "text": [
      "lin.weight tensor([[0.5879]])\n",
      "lin.bias tensor([-0.3201])\n"
     ]
    }
   ],
   "source": [
    "for name, param in model.named_parameters():\n",
    "    if param.requires_grad:\n",
    "        print(name, param.data)"
   ]
  },
  {
   "cell_type": "code",
   "execution_count": null,
   "metadata": {},
   "outputs": [],
   "source": []
  }
 ],
 "metadata": {
  "kernelspec": {
   "display_name": "Python 3",
   "language": "python",
   "name": "python3"
  },
  "language_info": {
   "codemirror_mode": {
    "name": "ipython",
    "version": 3
   },
   "file_extension": ".py",
   "mimetype": "text/x-python",
   "name": "python",
   "nbconvert_exporter": "python",
   "pygments_lexer": "ipython3",
   "version": "3.8.1"
  }
 },
 "nbformat": 4,
 "nbformat_minor": 2
}
